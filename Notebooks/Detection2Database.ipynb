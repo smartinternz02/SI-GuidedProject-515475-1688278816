{
 "cells": [
  {
   "cell_type": "markdown",
   "metadata": {},
   "source": [
    "This Code Handles From Detection to Creating a Database."
   ]
  },
  {
   "attachments": {},
   "cell_type": "markdown",
   "metadata": {},
   "source": [
    "# Import dependencies"
   ]
  },
  {
   "cell_type": "code",
   "execution_count": 1,
   "metadata": {},
   "outputs": [],
   "source": [
    "from ultralytics import YOLO "
   ]
  },
  {
   "cell_type": "code",
   "execution_count": 2,
   "metadata": {},
   "outputs": [],
   "source": [
    "import cv2\n",
    "import os\n",
    "import easyocr\n",
    "import re\n",
    "import datetime\n",
    "import csv"
   ]
  },
  {
   "attachments": {},
   "cell_type": "markdown",
   "metadata": {},
   "source": [
    "# EasyOCR application"
   ]
  },
  {
   "cell_type": "code",
   "execution_count": 6,
   "metadata": {},
   "outputs": [],
   "source": [
    "def extract_text_from_image(image_path):\n",
    "    # Initialize the EasyOCR reader\n",
    "    reader = easyocr.Reader(['en'])\n",
    "\n",
    "    # Read the image and extract text\n",
    "    result = reader.readtext(image_path)\n",
    "\n",
    "    # Extract all text\n",
    "    extracted_text = []\n",
    "    for detection in result:\n",
    "        text = detection[1]\n",
    "        extracted_text.append(text)\n",
    "\n",
    "    return extracted_text"
   ]
  },
  {
   "attachments": {},
   "cell_type": "markdown",
   "metadata": {},
   "source": [
    "# Car type class dictionary"
   ]
  },
  {
   "cell_type": "code",
   "execution_count": 7,
   "metadata": {},
   "outputs": [],
   "source": [
    "class_names = {\n",
    "    0: 'Hatchback',\n",
    "    1: 'MidSize-SUV',\n",
    "    3: 'SUV',\n",
    "    4: 'Sedan'\n",
    "}"
   ]
  },
  {
   "attachments": {},
   "cell_type": "markdown",
   "metadata": {},
   "source": [
    "# Load the model"
   ]
  },
  {
   "cell_type": "code",
   "execution_count": 8,
   "metadata": {},
   "outputs": [],
   "source": [
    "model = YOLO('./best.pt')"
   ]
  },
  {
   "attachments": {},
   "cell_type": "markdown",
   "metadata": {},
   "source": [
    "# car detection and csv updation\n",
    "\n",
    "# Parking modes: Parking or Leaving"
   ]
  },
  {
   "attachments": {},
   "cell_type": "markdown",
   "metadata": {},
   "source": [
    "The code compares the histogram of the current frame with the histogram of the previous frame \n",
    "\n",
    "This comparison is done to measure the similarity between the histograms. A correlation value is obtained, which indicates the degree of resemblance between the two histograms.\n",
    "\n",
    "If the correlation exceeds a certain threshold, the current frame is considered similar to the previous frame, and further processing is skipped. \n",
    "\n",
    "This helps to reduce unnecessary computation and focus on frames with significant changes.\n",
    "\n",
    "By using histogram correlation, the code decides whether to skip the object detection process for a frame.\n",
    "\n",
    "If the correlation value is higher than the threshold, it implies that the frame is similar to the previous one.\n",
    "\n",
    "Skipping the detection process for such frames improves efficiency.\n"
   ]
  },
  {
   "cell_type": "code",
   "execution_count": null,
   "metadata": {},
   "outputs": [],
   "source": [
    "\n",
    "mode = \"Parking\"\n",
    "threshold = 0.9  # Histogram correlation threshold\n",
    "video_path = \"entry2.mp4\"\n",
    "\n",
    "# Open the video file\n",
    "cap = cv2.VideoCapture(video_path)\n",
    "\n",
    "# Initialize variables for the previous frame and its histogram\n",
    "previous_frame = None\n",
    "previous_histogram = None\n",
    "\n",
    "# List to store the results for each frame\n",
    "results_list = []\n",
    "added_number_plates = []\n",
    "added_car_types = []\n",
    "\n",
    "# Create a CSV file with Car Type, Number, and Car Status\n",
    "with open('car_data.csv', mode='w', newline='') as file:\n",
    "    writer = csv.writer(file)\n",
    "    writer.writerow(['Car Type', 'Number', 'Car Status'])\n",
    "\n",
    "    # Read frames from the video\n",
    "    while cap.isOpened():\n",
    "        ret, frame = cap.read()\n",
    "\n",
    "        if not ret:\n",
    "            break\n",
    "\n",
    "        # Convert the frame to grayscale\n",
    "        gray_frame = cv2.cvtColor(frame, cv2.COLOR_BGR2GRAY)\n",
    "\n",
    "        # Calculate the histogram of the current frame\n",
    "        current_histogram = cv2.calcHist([gray_frame], [0], None, [256], [0, 256])\n",
    "\n",
    "        # Normalize the histogram (optional but recommended)\n",
    "        cv2.normalize(current_histogram, current_histogram, 0, 1, cv2.NORM_MINMAX)\n",
    "\n",
    "        # Compare histogram correlation with the previous frame\n",
    "        if previous_histogram is not None:\n",
    "            correlation = cv2.compareHist(previous_histogram, current_histogram, cv2.HISTCMP_CORREL)\n",
    "            if correlation > threshold:\n",
    "                # Skip detection for this frame\n",
    "                continue\n",
    "\n",
    "        # Store the current frame and histogram for the next iteration\n",
    "        previous_frame = gray_frame\n",
    "        previous_histogram = current_histogram\n",
    "\n",
    "        # Run YOLOv8 inference on the frame\n",
    "        results = model(frame)\n",
    "        cls = []\n",
    "        number_plate = \"\"\n",
    "        detected_car_type = \"\"\n",
    "\n",
    "        for result in results:\n",
    "            boxes = result.boxes.cpu().numpy()\n",
    "            for i, box in enumerate(boxes):\n",
    "                if box.conf[0] > 0.4:\n",
    "                    cls = int(box.cls[0])\n",
    "                    if cls == 2:\n",
    "                        r = box.xyxy[0].astype(int)\n",
    "                        crop = frame[r[1]:r[3], r[0]:r[2]]\n",
    "                        cv2.imwrite(\"numberplate.jpg\", crop)\n",
    "                        # Specify the path to the image\n",
    "                        number_plate = 'numberplate.jpg'\n",
    "                    elif cls != 2:\n",
    "                        car_type = class_names.get(cls)\n",
    "                        print(f\"Car Type: {car_type}\")\n",
    "                        detected_car_type = car_type\n",
    "\n",
    "        # Extract text from the image (implement your extract_text_from_image function)\n",
    "        text = extract_text_from_image(number_plate)\n",
    "        text = str(text)\n",
    "\n",
    "        # Define the pattern for number plate extraction using regular expressions\n",
    "        pattern = r'.*'\n",
    "\n",
    "        # Search for the pattern in the extracted text\n",
    "        extracted_number_plates = re.findall(pattern, text)\n",
    "\n",
    "        # Iterate over the extracted number plates\n",
    "        for plate in extracted_number_plates:\n",
    "            extracted_number_plate = str(plate)  # Convert the number plate to a string\n",
    "\n",
    "            # Check if the number plate is already added\n",
    "            if extracted_number_plate in added_number_plates:\n",
    "                continue  # Skip the current iteration if the number plate is already added\n",
    "\n",
    "            if detected_car_type in added_car_types:\n",
    "                continue\n",
    "\n",
    "            # Append the number plate to the added_number_plates list\n",
    "            added_number_plates.append(extracted_number_plate)\n",
    "\n",
    "            # Append the car type to the added car type list\n",
    "            added_car_types.append(detected_car_type)\n",
    "\n",
    "            # Append the results to the results list\n",
    "            results_list.append((detected_car_type, extracted_number_plate))\n",
    "\n",
    "            if mode == \"Parking\":\n",
    "                 writer.writerow([detected_car_type, extracted_number_plate.strip(\"[]\"), \"1\"])  # Convert \"1\" to string and remove square brackets\n",
    "            else:\n",
    "                writer.writerow([detected_car_type, extracted_number_plate.strip(\"[]\"), \"0\"])  # Convert \"0\" to string and remove square brackets\n",
    "\n",
    "# Release the video capture\n",
    "cap.release()"
   ]
  },
  {
   "cell_type": "code",
   "execution_count": 12,
   "metadata": {},
   "outputs": [
    {
     "name": "stderr",
     "output_type": "stream",
     "text": [
      "0: 160x256 1 NumberPlate, 1 Sedan, 382.7ms\n",
      "Speed: 164.4ms pre-process, 382.7ms inference, 55.4ms postprocess per image at shape (1, 3, 256, 256)\n"
     ]
    },
    {
     "name": "stdout",
     "output_type": "stream",
     "text": [
      "Car Type: Sedan\n"
     ]
    },
    {
     "name": "stderr",
     "output_type": "stream",
     "text": [
      "0: 160x256 1 MidSize-SUV, 1 NumberPlate, 14.7ms\n",
      "Speed: 1.0ms pre-process, 14.7ms inference, 2.0ms postprocess per image at shape (1, 3, 256, 256)\n"
     ]
    },
    {
     "name": "stdout",
     "output_type": "stream",
     "text": [
      "Car Type: MidSize-SUV\n"
     ]
    },
    {
     "name": "stderr",
     "output_type": "stream",
     "text": [
      "0: 160x256 1 Hatchback, 1 NumberPlate, 13.0ms\n",
      "Speed: 0.0ms pre-process, 13.0ms inference, 2.0ms postprocess per image at shape (1, 3, 256, 256)\n"
     ]
    },
    {
     "name": "stdout",
     "output_type": "stream",
     "text": [
      "Car Type: Hatchback\n"
     ]
    },
    {
     "name": "stderr",
     "output_type": "stream",
     "text": [
      "0: 160x256 1 NumberPlate, 1 SUV, 16.1ms\n",
      "Speed: 0.0ms pre-process, 16.1ms inference, 2.4ms postprocess per image at shape (1, 3, 256, 256)\n"
     ]
    },
    {
     "name": "stdout",
     "output_type": "stream",
     "text": [
      "Car Type: SUV\n"
     ]
    }
   ],
   "source": [
    "\n",
    "mode = \"Leaving\"\n",
    "threshold = 0.9  # Histogram correlation threshold\n",
    "video_path = \"entry2.mp4\"\n",
    "\n",
    "# Open the video file\n",
    "cap = cv2.VideoCapture(video_path)\n",
    "\n",
    "# Initialize variables for the previous frame and its histogram\n",
    "previous_frame = None\n",
    "previous_histogram = None\n",
    "\n",
    "# List to store the results for each frame\n",
    "results_list = []\n",
    "added_number_plates = []\n",
    "added_car_types = []\n",
    "\n",
    "# Create a CSV file with Car Type, Number, and Car Status\n",
    "with open('car_data.csv', mode='w', newline='') as file:\n",
    "    writer = csv.writer(file)\n",
    "    writer.writerow(['Car Type', 'Number', 'Car Status'])\n",
    "\n",
    "    # Read frames from the video\n",
    "    while cap.isOpened():\n",
    "        ret, frame = cap.read()\n",
    "\n",
    "        if not ret:\n",
    "            break\n",
    "\n",
    "        # Convert the frame to grayscale\n",
    "        gray_frame = cv2.cvtColor(frame, cv2.COLOR_BGR2GRAY)\n",
    "\n",
    "        # Calculate the histogram of the current frame\n",
    "        current_histogram = cv2.calcHist([gray_frame], [0], None, [256], [0, 256])\n",
    "\n",
    "        # Normalize the histogram (optional but recommended)\n",
    "        cv2.normalize(current_histogram, current_histogram, 0, 1, cv2.NORM_MINMAX)\n",
    "\n",
    "        # Compare histogram correlation with the previous frame\n",
    "        if previous_histogram is not None:\n",
    "            correlation = cv2.compareHist(previous_histogram, current_histogram, cv2.HISTCMP_CORREL)\n",
    "            if correlation > threshold:\n",
    "                # Skip detection for this frame\n",
    "                continue\n",
    "\n",
    "        # Store the current frame and histogram for the next iteration\n",
    "        previous_frame = gray_frame\n",
    "        previous_histogram = current_histogram\n",
    "\n",
    "        # Run YOLOv8 inference on the frame\n",
    "        results = model(frame)\n",
    "        cls = []\n",
    "        number_plate = \"\"\n",
    "        detected_car_type = \"\"\n",
    "\n",
    "        for result in results:\n",
    "            boxes = result.boxes.cpu().numpy()\n",
    "            for i, box in enumerate(boxes):\n",
    "                if box.conf[0] > 0.4:\n",
    "                    cls = int(box.cls[0])\n",
    "                    if cls == 2:\n",
    "                        r = box.xyxy[0].astype(int)\n",
    "                        crop = frame[r[1]:r[3], r[0]:r[2]]\n",
    "                        cv2.imwrite(\"numberplate.jpg\", crop)\n",
    "                        # Specify the path to the image\n",
    "                        number_plate = 'numberplate.jpg'\n",
    "                    elif cls != 2:\n",
    "                        car_type = class_names.get(cls)\n",
    "                        print(f\"Car Type: {car_type}\")\n",
    "                        detected_car_type = car_type\n",
    "\n",
    "        # Extract text from the image (implement your extract_text_from_image function)\n",
    "        text = extract_text_from_image(number_plate)\n",
    "        text = str(text)\n",
    "\n",
    "        # Define the pattern for number plate extraction using regular expressions\n",
    "        pattern = r'.*'\n",
    "\n",
    "        # Search for the pattern in the extracted text\n",
    "        extracted_number_plates = re.findall(pattern, text)\n",
    "\n",
    "        # Iterate over the extracted number plates\n",
    "        for plate in extracted_number_plates:\n",
    "            extracted_number_plate = str(plate)  # Convert the number plate to a string\n",
    "\n",
    "            # Check if the number plate is already added\n",
    "            if extracted_number_plate in added_number_plates:\n",
    "                continue  # Skip the current iteration if the number plate is already added\n",
    "\n",
    "            if detected_car_type in added_car_types:\n",
    "                continue\n",
    "\n",
    "            # Append the number plate to the added_number_plates list\n",
    "            added_number_plates.append(extracted_number_plate)\n",
    "\n",
    "            # Append the car type to the added car type list\n",
    "            added_car_types.append(detected_car_type)\n",
    "\n",
    "            # Append the results to the results list\n",
    "            results_list.append((detected_car_type, extracted_number_plate))\n",
    "\n",
    "            if mode == \"Parking\":\n",
    "                 writer.writerow([detected_car_type, extracted_number_plate.strip(\"[]\"), \"1\"])  # Convert \"1\" to string and remove square brackets\n",
    "            else:\n",
    "                writer.writerow([detected_car_type, extracted_number_plate.strip(\"[]\"), \"0\"])  # Convert \"0\" to string and remove square brackets\n",
    "\n",
    "# Release the video capture\n",
    "cap.release()"
   ]
  },
  {
   "cell_type": "code",
   "execution_count": null,
   "metadata": {},
   "outputs": [],
   "source": []
  }
 ],
 "metadata": {
  "kernelspec": {
   "display_name": "Python 3.10.5 64-bit",
   "language": "python",
   "name": "python3"
  },
  "language_info": {
   "codemirror_mode": {
    "name": "ipython",
    "version": 3
   },
   "file_extension": ".py",
   "mimetype": "text/x-python",
   "name": "python",
   "nbconvert_exporter": "python",
   "pygments_lexer": "ipython3",
   "version": "3.10.5"
  },
  "orig_nbformat": 4,
  "vscode": {
   "interpreter": {
    "hash": "aee8b7b246df8f9039afb4144a1f6fd8d2ca17a180786b69acc140d282b71a49"
   }
  }
 },
 "nbformat": 4,
 "nbformat_minor": 2
}
