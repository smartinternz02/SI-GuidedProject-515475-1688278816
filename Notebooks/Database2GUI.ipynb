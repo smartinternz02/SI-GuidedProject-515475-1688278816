{
 "cells": [
  {
   "cell_type": "markdown",
   "metadata": {},
   "source": [
    "This Code Handles the Database to GUI Formation ."
   ]
  },
  {
   "attachments": {},
   "cell_type": "markdown",
   "metadata": {},
   "source": [
    "# Import the dependencies"
   ]
  },
  {
   "cell_type": "code",
   "execution_count": 1,
   "metadata": {},
   "outputs": [],
   "source": [
    "import pandas as pd\n",
    "import tkinter as tk\n",
    "from tkinter import filedialog"
   ]
  },
  {
   "attachments": {},
   "cell_type": "markdown",
   "metadata": {},
   "source": [
    "# Class definitions for Parking Lot and Cars"
   ]
  },
  {
   "cell_type": "code",
   "execution_count": 2,
   "metadata": {},
   "outputs": [],
   "source": [
    "class ParkingLot:\n",
    "    def __init__(self, capacity):\n",
    "        self.capacity = capacity\n",
    "        self.spaces = [None] * capacity\n",
    "\n",
    "\n",
    "class Car:\n",
    "    def __init__(self, car_type, car_number, car_status):\n",
    "        self.car_type = car_type\n",
    "        self.car_number = car_number\n",
    "        self.car_status = car_status"
   ]
  },
  {
   "attachments": {},
   "cell_type": "markdown",
   "metadata": {},
   "source": [
    "# Read the CSV file and split the records of three attributes:\n",
    "# Car Type\n",
    "\n",
    "# Car Number \n",
    "\n",
    "# Car Status \n",
    "#  1 -> Car is in the parking lot\n",
    "#  0 -> Car has left the parking lot \n"
   ]
  },
  {
   "cell_type": "code",
   "execution_count": 3,
   "metadata": {},
   "outputs": [],
   "source": [
    "def process_csv(file_path):\n",
    "    df = pd.read_csv(file_path)\n",
    "    car_inputs = df[['Car Type', 'Number', 'Car Status']].values.tolist()\n",
    "    return car_inputs\n"
   ]
  },
  {
   "attachments": {},
   "cell_type": "markdown",
   "metadata": {},
   "source": [
    "# Algorithm for parking lot allotment"
   ]
  },
  {
   "cell_type": "code",
   "execution_count": 4,
   "metadata": {},
   "outputs": [],
   "source": [
    "def allocate_parking_space(car_type, car_number, car_status, parking_lots):\n",
    "    for parking_lot in parking_lots:\n",
    "        if parking_lot.spaces.count(None) == 0:\n",
    "            continue  # Move to the next parking lot if the current one is full\n",
    "\n",
    "        for i, space in enumerate(parking_lot.spaces):\n",
    "            if space is None:\n",
    "                if car_type == 'SUV':\n",
    "                    suv_count = sum(1 for s in parking_lot.spaces if s and s.car_type == 'SUV')\n",
    "                    if suv_count >= 0.4 * parking_lot.capacity:\n",
    "                        continue  # SUV limit reached in this parking lot\n",
    "\n",
    "                if car_type == 'SUV' and any(s and s.car_type == 'SUV' for s in parking_lot.spaces[i - 1:i + 2]):\n",
    "                    continue  # Don't allow two SUVs to be near\n",
    "\n",
    "                if car_type in ['Sedan', 'Hatchback']:\n",
    "                    neighboring_count = 0\n",
    "                    for j in range(i - 1, i + 2):\n",
    "                        if 0 <= j < parking_lot.capacity and parking_lot.spaces[j] and parking_lot.spaces[\n",
    "                            j].car_type in ['Sedan', 'Hatchback']:\n",
    "                            neighboring_count += 1\n",
    "                    if neighboring_count >= 2:\n",
    "                        continue  # Limit reached for Sedans and Hatchbacks\n",
    "\n",
    "                if car_status == 1:\n",
    "                    parking_lot.spaces[i] = Car(car_type, car_number, car_status)\n",
    "                else:\n",
    "                    parking_lot.spaces[i] = None\n",
    "\n",
    "                return f'Car {car_number} parked at Lot {parking_lots.index(parking_lot) + 1}, Space {i + 1}'\n",
    "\n",
    "    return 'No available parking space'"
   ]
  },
  {
   "attachments": {},
   "cell_type": "markdown",
   "metadata": {},
   "source": [
    "# GUI hard code"
   ]
  },
  {
   "cell_type": "code",
   "execution_count": 5,
   "metadata": {},
   "outputs": [],
   "source": [
    "def create_parking_gui(parking_lots):\n",
    "    root = tk.Tk()\n",
    "    root.title(\"Parking Lot Status\")\n",
    "\n",
    "    # Color map for car types\n",
    "    color_map = {'SUV': 'red', 'MidSize-SUV': 'purple', 'Sedan': 'green', 'Hatchback': 'blue'}\n",
    "\n",
    "    # Create a tkinter frame for the labels\n",
    "    labels_frame = tk.Frame(root, padx=10, pady=10)\n",
    "    labels_frame.pack(expand=True, fill=tk.BOTH)\n",
    "\n",
    "    # Update the labels with parking lot status\n",
    "    def update_labels():\n",
    "        for row, parking_lot in enumerate(parking_lots):\n",
    "            for col, space in enumerate(parking_lot.spaces[:5]):\n",
    "                if space is None:\n",
    "                    cell_value = \"\"\n",
    "                    cell_color = \"white\"\n",
    "                else:\n",
    "                    cell_value = space.car_number\n",
    "                    cell_color = color_map[space.car_type]\n",
    "\n",
    "                label = labels[row][col]\n",
    "                label.config(text=cell_value, bg=cell_color)\n",
    "                label.update()\n",
    "\n",
    "    # Create the labels dynamically\n",
    "    # Create the labels dynamically\n",
    "    labels = []\n",
    "    lot_number = 1  # Initialize the lot number\n",
    "    for row in range(5):\n",
    "        row_labels = []\n",
    "        for col in range(5):\n",
    "            label = tk.Label(labels_frame, text=str(lot_number), width=25, height=5, relief=tk.RAISED, bd=1,\n",
    "                         font=(\"Times New Roman\", 12, 'bold'), fg='white')\n",
    "            label.grid(row=row, column=col, padx=5, pady=5, ipadx=2, ipady=2, sticky=\"nsew\")\n",
    "            row_labels.append(label)\n",
    "            #row_labels.append(str(lot_number))\n",
    "            labels_frame.grid_columnconfigure(col, weight=1)\n",
    "            #lot_number += 1  # Increment the lot number\n",
    "        labels.append(row_labels)\n",
    "        labels_frame.grid_rowconfigure(row, weight=1)\n",
    "\n",
    "    # Add numbering to the labels\n",
    "    for i, row_labels in enumerate(labels):\n",
    "        for j, label in enumerate(row_labels):\n",
    "            lot_number_label = tk.Label(label, text=str(lot_number), font=(\"Times New Roman\", 12, 'bold'), fg='white')\n",
    "            lot_number_label.pack()\n",
    "            lot_number_label.config(fg='black')  # Change the color to black\n",
    "            lot_number += 1\n",
    "\n",
    "\n",
    "    update_labels()\n",
    "\n",
    "    # Create a tkinter frame for the legend\n",
    "    legend_frame = tk.Frame(root)\n",
    "    legend_frame.pack(side=tk.RIGHT, fill=tk.X)\n",
    "\n",
    "    # Create the legend labels\n",
    "    for car_type, color in color_map.items():\n",
    "        legend_label = tk.Label(legend_frame, text=car_type, bg=color, fg='white', width=15, padx=5, pady=5,\n",
    "                                font=(\"Helvetica\", 12))\n",
    "        legend_label.pack(side=tk.LEFT)\n",
    "\n",
    "    # Create a tkinter frame for the buttons\n",
    "    button_frame = tk.Frame(root)\n",
    "    button_frame.pack(side=tk.BOTTOM, pady=10, fill=tk.X)\n",
    "\n",
    "    # Add a button to reload the CSV file\n",
    "    def reload_csv():\n",
    "        file_path = filedialog.askopenfilename(filetypes=[(\"CSV files\", \"*.csv\")])\n",
    "        if file_path:\n",
    "            car_inputs = process_csv(file_path)\n",
    "            for car_type, car_number, car_status in car_inputs:\n",
    "                result = allocate_parking_space(car_type, car_number, car_status, parking_lots)\n",
    "                print(result)\n",
    "            update_labels()\n",
    "\n",
    "    reload_button = tk.Button(button_frame, text=\"Reload CSV\", command=reload_csv)\n",
    "    reload_button.pack(side=tk.LEFT, padx=10)\n",
    "\n",
    "    # Add a button to close the GUI\n",
    "    close_button = tk.Button(button_frame, text=\"Close\", command=root.quit)\n",
    "    close_button.pack(side=tk.LEFT, padx=10)\n",
    "\n",
    "    root.mainloop()"
   ]
  },
  {
   "attachments": {},
   "cell_type": "markdown",
   "metadata": {},
   "source": [
    "# Load the CSV file"
   ]
  },
  {
   "cell_type": "code",
   "execution_count": 7,
   "metadata": {},
   "outputs": [
    {
     "name": "stdout",
     "output_type": "stream",
     "text": [
      "Car 'MH20 DV 2363' parked at Lot 1, Space 1\n",
      "Car 'Tin21 BZ 0768' parked at Lot 1, Space 2\n",
      "Car 'HR5 1V3737' parked at Lot 1, Space 3\n",
      "Car 'GJi6F 19613' parked at Lot 1, Space 4\n"
     ]
    }
   ],
   "source": [
    "# Prompt the user to select a CSV file\n",
    "file_path = filedialog.askopenfilename(filetypes=[(\"CSV files\", \"*.csv\")])\n",
    "\n",
    "if file_path:\n",
    "    car_inputs = process_csv(file_path)\n",
    "    parking_lots = [ParkingLot(25) for _ in range(3)]\n",
    "\n",
    "    for car_type, car_number, car_status in car_inputs:\n",
    "        for parking_lot in parking_lots:\n",
    "            for space in parking_lot.spaces:\n",
    "                if space and space.car_number == car_number:\n",
    "                    if car_status == 0:\n",
    "                        parking_lot.spaces.remove(space)\n",
    "                    break\n",
    "        else:\n",
    "            result = allocate_parking_space(car_type, car_number, car_status, parking_lots)\n",
    "            print(result)\n",
    "\n",
    "    create_parking_gui(parking_lots)"
   ]
  },
  {
   "attachments": {},
   "cell_type": "markdown",
   "metadata": {},
   "source": [
    "-------------------"
   ]
  },
  {
   "cell_type": "code",
   "execution_count": null,
   "metadata": {},
   "outputs": [],
   "source": []
  }
 ],
 "metadata": {
  "kernelspec": {
   "display_name": "tf_gpu",
   "language": "python",
   "name": "python3"
  },
  "language_info": {
   "codemirror_mode": {
    "name": "ipython",
    "version": 3
   },
   "file_extension": ".py",
   "mimetype": "text/x-python",
   "name": "python",
   "nbconvert_exporter": "python",
   "pygments_lexer": "ipython3",
   "version": "3.10.11"
  },
  "orig_nbformat": 4
 },
 "nbformat": 4,
 "nbformat_minor": 2
}
